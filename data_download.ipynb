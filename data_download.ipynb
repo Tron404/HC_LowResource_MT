{
 "cells": [
  {
   "cell_type": "code",
   "execution_count": 1,
   "metadata": {},
   "outputs": [
    {
     "name": "stdout",
     "output_type": "stream",
     "text": [
      "config_cpu.sh  data_download.ipynb\t    slurm-2717062.out\n",
      "config_gpu.sh  data_gen_transformers.ipynb  slurm-2717065.out\n"
     ]
    }
   ],
   "source": [
    "!ls"
   ]
  },
  {
   "cell_type": "code",
   "execution_count": 4,
   "metadata": {},
   "outputs": [
    {
     "name": "stdout",
     "output_type": "stream",
     "text": [
      "mkdir: cannot create directory ‘data’: File exists\n",
      "/home2/s4231317/HC/data\n",
      "Cloning into 'Tamil-English-Dataset'...\n",
      "remote: Enumerating objects: 39, done.\u001b[K\n",
      "remote: Total 39 (delta 0), reused 0 (delta 0), pack-reused 39\u001b[K\n",
      "Receiving objects: 100% (39/39), 41.09 MiB | 25.45 MiB/s, done.\n",
      "Resolving deltas: 100% (11/11), done.\n",
      "/home2/s4231317/HC\n"
     ]
    }
   ],
   "source": [
    "!mkdir data\n",
    "%cd data\n",
    "!git clone https://github.com/Ishikahooda/Tamil-English-Dataset.git\n",
    "%cd .."
   ]
  },
  {
   "cell_type": "code",
   "execution_count": 5,
   "metadata": {},
   "outputs": [
    {
     "name": "stdout",
     "output_type": "stream",
     "text": [
      "/home2/s4231317/HC/models\n",
      "Cloning into 'mbart-large-50'...\n",
      "remote: Enumerating objects: 26, done.\u001b[K\n",
      "remote: Counting objects: 100% (3/3), done.\u001b[K\n",
      "remote: Compressing objects: 100% (3/3), done.\u001b[K\n",
      "remote: Total 26 (delta 0), reused 0 (delta 0), pack-reused 23\u001b[K\n",
      "Unpacking objects: 100% (26/26), 6.27 KiB | 41.00 KiB/s, done.\n",
      "Filtering content: 100% (3/3), 4.55 GiB | 100.80 MiB/s, done.\n",
      "Cloning into 'mbart-large-50-many-to-many-mmt'...\n",
      "remote: Enumerating objects: 36, done.\u001b[K\n",
      "remote: Counting objects: 100% (3/3), done.\u001b[K\n",
      "remote: Compressing objects: 100% (3/3), done.\u001b[K\n",
      "remote: Total 36 (delta 0), reused 1 (delta 0), pack-reused 33\u001b[K\n",
      "Unpacking objects: 100% (36/36), 7.02 KiB | 33.00 KiB/s, done.\n",
      "Filtering content: 100% (5/5), 9.11 GiB | 97.53 MiB/s, done.\n",
      "Cloning into 'mt5-base'...\n",
      "remote: Enumerating objects: 27, done.\u001b[K\n",
      "remote: Total 27 (delta 0), reused 0 (delta 0), pack-reused 27\u001b[K\n",
      "Unpacking objects: 100% (27/27), 2.23 MiB | 3.87 MiB/s, done.\n",
      "error: unable to create file flax_model.msgpack: No space left on device\n",
      "Downloading pytorch_model.bin (2.3 GB)\n",
      "Error downloading object: pytorch_model.bin (180573b): Smudge error: Error downloading pytorch_model.bin (180573b534144580f04af026da62bf71bc976ee1b7eb311b8945e2fefde8d614): open /home2/s4231317/HC/models/mt5-base/.git/lfs/incomplete/180573b534144580f04af026da62bf71bc976ee1b7eb311b8945e2fefde8d6141625631623: no space left on device\n",
      "Unable to log panic to '/home2/s4231317/HC/models/mt5-base/.git/lfs/logs': mkdir /home2/s4231317/HC/models/mt5-base/.git/lfs/logs: no space left on device\n",
      "\n",
      "git-lfs/3.2.0 (GitHub; linux amd64; go 1.19.4)\n",
      "git version 2.39.3\n",
      "\n",
      "$ git-lfs filter-process\n",
      "Error downloading object: pytorch_model.bin (180573b): Smudge error: Error downloading pytorch_model.bin (180573b534144580f04af026da62bf71bc976ee1b7eb311b8945e2fefde8d614): open /home2/s4231317/HC/models/mt5-base/.git/lfs/incomplete/180573b534144580f04af026da62bf71bc976ee1b7eb311b8945e2fefde8d6141625631623: no space left on device\n",
      "\n",
      "open /home2/s4231317/HC/models/mt5-base/.git/lfs/incomplete/180573b534144580f04af026da62bf71bc976ee1b7eb311b8945e2fefde8d6141625631623: no space left on device\n",
      "Error downloading pytorch_model.bin (180573b534144580f04af026da62bf71bc976ee1b7eb311b8945e2fefde8d614)\n",
      "github.com/git-lfs/git-lfs/errors.newWrappedError\n",
      "\t/builddir/build/BUILD/git-lfs-3.2.0/_build/src/github.com/git-lfs/git-lfs/errors/types.go:229\n",
      "github.com/git-lfs/git-lfs/errors.Wrapf\n",
      "\t/builddir/build/BUILD/git-lfs-3.2.0/_build/src/github.com/git-lfs/git-lfs/errors/errors.go:85\n",
      "github.com/git-lfs/git-lfs/lfs.(*GitFilter).downloadFile\n",
      "\t/builddir/build/BUILD/git-lfs-3.2.0/_build/src/github.com/git-lfs/git-lfs/lfs/gitfilter_smudge.go:120\n",
      "github.com/git-lfs/git-lfs/lfs.(*GitFilter).Smudge\n",
      "\t/builddir/build/BUILD/git-lfs-3.2.0/_build/src/github.com/git-lfs/git-lfs/lfs/gitfilter_smudge.go:79\n",
      "github.com/git-lfs/git-lfs/commands.smudge\n",
      "\t/builddir/build/BUILD/git-lfs-3.2.0/_build/src/github.com/git-lfs/git-lfs/commands/command_smudge.go:128\n",
      "github.com/git-lfs/git-lfs/commands.filterCommand\n",
      "\t/builddir/build/BUILD/git-lfs-3.2.0/_build/src/github.com/git-lfs/git-lfs/commands/command_filter_process.go:123\n",
      "github.com/git-lfs/git-lfs/vendor/github.com/spf13/cobra.(*Command).execute\n",
      "\t/builddir/build/BUILD/git-lfs-3.2.0/_build/src/github.com/git-lfs/git-lfs/vendor/github.com/spf13/cobra/command.go:766\n",
      "github.com/git-lfs/git-lfs/vendor/github.com/spf13/cobra.(*Command).ExecuteC\n",
      "\t/builddir/build/BUILD/git-lfs-3.2.0/_build/src/github.com/git-lfs/git-lfs/vendor/github.com/spf13/cobra/command.go:852\n",
      "github.com/git-lfs/git-lfs/vendor/github.com/spf13/cobra.(*Command).Execute\n",
      "\t/builddir/build/BUILD/git-lfs-3.2.0/_build/src/github.com/git-lfs/git-lfs/vendor/github.com/spf13/cobra/command.go:800\n",
      "github.com/git-lfs/git-lfs/commands.Run\n",
      "\t/builddir/build/BUILD/git-lfs-3.2.0/_build/src/github.com/git-lfs/git-lfs/commands/run.go:107\n",
      "main.main\n",
      "\t/builddir/build/BUILD/git-lfs-3.2.0/_build/src/github.com/git-lfs/git-lfs/git-lfs.go:34\n",
      "runtime.main\n",
      "\t/usr/lib/golang/src/runtime/proc.go:250\n",
      "runtime.goexit\n",
      "\t/usr/lib/golang/src/runtime/asm_amd64.s:1594\n",
      "Smudge error\n",
      "github.com/git-lfs/git-lfs/errors.newWrappedError\n",
      "\t/builddir/build/BUILD/git-lfs-3.2.0/_build/src/github.com/git-lfs/git-lfs/errors/types.go:229\n",
      "github.com/git-lfs/git-lfs/errors.NewSmudgeError\n",
      "\t/builddir/build/BUILD/git-lfs-3.2.0/_build/src/github.com/git-lfs/git-lfs/errors/types.go:315\n",
      "github.com/git-lfs/git-lfs/lfs.(*GitFilter).Smudge\n",
      "\t/builddir/build/BUILD/git-lfs-3.2.0/_build/src/github.com/git-lfs/git-lfs/lfs/gitfilter_smudge.go:88\n",
      "github.com/git-lfs/git-lfs/commands.smudge\n",
      "\t/builddir/build/BUILD/git-lfs-3.2.0/_build/src/github.com/git-lfs/git-lfs/commands/command_smudge.go:128\n",
      "github.com/git-lfs/git-lfs/commands.filterCommand\n",
      "\t/builddir/build/BUILD/git-lfs-3.2.0/_build/src/github.com/git-lfs/git-lfs/commands/command_filter_process.go:123\n",
      "github.com/git-lfs/git-lfs/vendor/github.com/spf13/cobra.(*Command).execute\n",
      "\t/builddir/build/BUILD/git-lfs-3.2.0/_build/src/github.com/git-lfs/git-lfs/vendor/github.com/spf13/cobra/command.go:766\n",
      "github.com/git-lfs/git-lfs/vendor/github.com/spf13/cobra.(*Command).ExecuteC\n",
      "\t/builddir/build/BUILD/git-lfs-3.2.0/_build/src/github.com/git-lfs/git-lfs/vendor/github.com/spf13/cobra/command.go:852\n",
      "github.com/git-lfs/git-lfs/vendor/github.com/spf13/cobra.(*Command).Execute\n",
      "\t/builddir/build/BUILD/git-lfs-3.2.0/_build/src/github.com/git-lfs/git-lfs/vendor/github.com/spf13/cobra/command.go:800\n",
      "github.com/git-lfs/git-lfs/commands.Run\n",
      "\t/builddir/build/BUILD/git-lfs-3.2.0/_build/src/github.com/git-lfs/git-lfs/commands/run.go:107\n",
      "main.main\n",
      "\t/builddir/build/BUILD/git-lfs-3.2.0/_build/src/github.com/git-lfs/git-lfs/git-lfs.go:34\n",
      "runtime.main\n",
      "\t/usr/lib/golang/src/runtime/proc.go:250\n",
      "runtime.goexit\n",
      "\t/usr/lib/golang/src/runtime/asm_amd64.s:1594\n",
      "\n",
      "Current time in UTC:\n",
      "2023-06-23 23:10:22\n",
      "\n",
      "Environment:\n",
      "LocalWorkingDir=/home2/s4231317/HC/models/mt5-base\n",
      "LocalGitDir=/home2/s4231317/HC/models/mt5-base/.git\n",
      "LocalGitStorageDir=/home2/s4231317/HC/models/mt5-base/.git\n",
      "LocalMediaDir=/home2/s4231317/HC/models/mt5-base/.git/lfs/objects\n",
      "LocalReferenceDirs=\n",
      "TempDir=/home2/s4231317/HC/models/mt5-base/.git/lfs/tmp\n",
      "ConcurrentTransfers=8\n",
      "TusTransfers=false\n",
      "BasicTransfersOnly=false\n",
      "SkipDownloadErrors=false\n",
      "FetchRecentAlways=false\n",
      "FetchRecentRefsDays=7\n",
      "FetchRecentCommitsDays=0\n",
      "FetchRecentRefsIncludeRemotes=true\n",
      "PruneOffsetDays=3\n",
      "PruneVerifyRemoteAlways=false\n",
      "PruneRemoteName=origin\n",
      "LfsStorageDir=/home2/s4231317/HC/models/mt5-base/.git/lfs\n",
      "AccessDownload=none\n",
      "AccessUpload=none\n",
      "DownloadTransfers=basic,lfs-standalone-file,ssh\n",
      "UploadTransfers=basic,lfs-standalone-file,ssh\n",
      "GIT_DIR=/home2/s4231317/HC/models/mt5-base/.git\n",
      "GIT_EXEC_PATH=/usr/libexec/git-core\n",
      "GIT_PAGER=cat\n",
      "\n",
      "Client IP addresses:\n",
      "fe80::ee2a:72ff:fe0a:4a5c\n",
      "172.23.12.1 fe80::3680:dff:fe31:6638\n",
      "10.5.0.47 fe80::3680:dff:fe31:6639\n",
      "error: external filter 'git-lfs filter-process' failed\n",
      "fatal: pytorch_model.bin: smudge filter lfs failed\n",
      "warning: Clone succeeded, but checkout failed.\n",
      "You can inspect what was checked out with 'git status'\n",
      "and retry with 'git restore --source=HEAD :/'\n",
      "\n",
      "/home2/s4231317/HC\n"
     ]
    }
   ],
   "source": [
    "models_download_path = [\"facebook/mbart-large-50\", \"facebook/mbart-large-50-many-to-many-mmt\"] # , \"google/mt5-base\"\n",
    "# models_download_path = [\"facebook/mbart-large-50-many-to-many-mmt\"] # , \"google/mt5-large\"\n",
    "\n",
    "!mkdir models\n",
    "%cd models\n",
    "for model in models_download_path:\n",
    "  !git clone https://huggingface.co/$model\n",
    "%cd .."
   ]
  }
 ],
 "metadata": {
  "kernelspec": {
   "display_name": "Python 3 (ipykernel)",
   "language": "python",
   "name": "python3"
  },
  "language_info": {
   "codemirror_mode": {
    "name": "ipython",
    "version": 3
   },
   "file_extension": ".py",
   "mimetype": "text/x-python",
   "name": "python",
   "nbconvert_exporter": "python",
   "pygments_lexer": "ipython3",
   "version": "3.10.8"
  },
  "orig_nbformat": 4
 },
 "nbformat": 4,
 "nbformat_minor": 2
}
