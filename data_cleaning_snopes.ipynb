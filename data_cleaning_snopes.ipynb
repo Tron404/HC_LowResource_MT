{
 "cells": [
  {
   "cell_type": "code",
   "execution_count": 1,
   "metadata": {},
   "outputs": [],
   "source": [
    "import pandas as pd\n",
    "import re"
   ]
  },
  {
   "cell_type": "code",
   "execution_count": 2,
   "metadata": {},
   "outputs": [],
   "source": [
    "PATH = \"data/\"\n",
    "df = pd.read_csv(PATH + \"snopes_raw_2018.csv\")"
   ]
  },
  {
   "cell_type": "code",
   "execution_count": 40,
   "metadata": {},
   "outputs": [
    {
     "name": "stdout",
     "output_type": "stream",
     "text": [
      "4433 20775\n"
     ]
    }
   ],
   "source": [
    "# relevant_cols = [\"fact_rating_phase1\", \"article_title_phase1\", \"article_claim_phase1\", \"original_article_text_phase2\", \"article_title_phase2\"]\n",
    "relevant_cols = [\"fact_rating_phase1\", \"article_claim_phase1\"]\n",
    "\n",
    "import numpy as np\n",
    "\n",
    "df = df[relevant_cols]\n",
    "                   \n",
    "dat = set()\n",
    "\n",
    "label_unifier = {\n",
    "        \"true\": [\"true\", \"mostly true\", \"correct attribution\"],\n",
    "        \"false\": [\"outdated\", \"mostly false\", \"unproven\", \"legend\", \"misattributed\", \"scam\", \"false\"]\n",
    "}\n",
    "\n",
    "# exclude miscaptioned, mixture\n",
    "\n",
    "for row in df.itertuples():\n",
    "    row = row[1:]\n",
    "    row = list(row)\n",
    "    if not (row[0] == \"miscaptioned\" or row[0] == \"mixture\"):\n",
    "        for general_label, labels in label_unifier.items():\n",
    "            if row[0] in labels:\n",
    "                row[0] = general_label\n",
    "                text = row[1]\n",
    "                text = re.sub(r\"[\\s]{2,}\", \"\", text)\n",
    "                text = re.sub(r\"See.+Example\\( s \\)\", \"\", text)\n",
    "                row[1] = text\n",
    "                row = tuple(row)\n",
    "                dat.add(row)\n",
    "                continue\n",
    "    \n",
    "dat = np.asarray(list(dat))\n",
    "pd.DataFrame({\"label\":dat[:,0], \"claim\":dat[:,1]}).to_csv(\"cleaned_snopes.csv\", index=None)\n",
    "print(len(dat), len(df))\n"
   ]
  }
 ],
 "metadata": {
  "kernelspec": {
   "display_name": "Python 3 (ipykernel)",
   "language": "python",
   "name": "python3"
  },
  "language_info": {
   "codemirror_mode": {
    "name": "ipython",
    "version": 3
   },
   "file_extension": ".py",
   "mimetype": "text/x-python",
   "name": "python",
   "nbconvert_exporter": "python",
   "pygments_lexer": "ipython3",
   "version": "3.10.8"
  },
  "orig_nbformat": 4
 },
 "nbformat": 4,
 "nbformat_minor": 2
}
