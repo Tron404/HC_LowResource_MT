{
 "cells": [
  {
   "cell_type": "code",
   "execution_count": 1,
   "metadata": {},
   "outputs": [],
   "source": [
    "import torch\n",
    "import pandas as pd\n",
    "from sacrebleu.metrics import BLEU"
   ]
  },
  {
   "cell_type": "code",
   "execution_count": 2,
   "metadata": {},
   "outputs": [],
   "source": [
    "import os\n",
    "from collections import defaultdict\n",
    "\n",
    "path = \"translation/complete/\""
   ]
  },
  {
   "cell_type": "code",
   "execution_count": 3,
   "metadata": {},
   "outputs": [
    {
     "name": "stdout",
     "output_type": "stream",
     "text": [
      "ta mBART\n",
      "vi mBART\n",
      "xh mBART\n",
      "ta m2m100\n",
      "vi m2m100\n",
      "xh m2m100\n"
     ]
    }
   ],
   "source": [
    "df_orig = pd.read_csv(\"data/data.csv\", sep=\"|\")\n",
    "original = [df_orig[\"claim\"].to_numpy().tolist()]\n",
    "\n",
    "df_dic = defaultdict()\n",
    "for file in os.listdir(path):\n",
    "    if \"backtranslation\" in file:\n",
    "        df = pd.read_csv(path + file, sep=\"|\")\n",
    "        lang, model  = file.split(\"_\")[3:5]\n",
    "        model = model.split(\".\")[0]\n",
    "\n",
    "        df_dic[lang + \"_\" + model] = df[\"claim\"].to_numpy().tolist()\n",
    "       \n",
    "        print(lang, model)"
   ]
  },
  {
   "cell_type": "code",
   "execution_count": 4,
   "metadata": {},
   "outputs": [],
   "source": [
    "bleu = BLEU()"
   ]
  },
  {
   "cell_type": "code",
   "execution_count": 6,
   "metadata": {},
   "outputs": [],
   "source": [
    "bleu_scores = defaultdict()\n",
    "for key, val in df_dic.items():\n",
    "    bleu_scores[key] = bleu.corpus_score(val, original)"
   ]
  },
  {
   "cell_type": "code",
   "execution_count": 7,
   "metadata": {},
   "outputs": [
    {
     "data": {
      "text/plain": [
       "defaultdict(None,\n",
       "            {'ta_mBART': BLEU = 0.07 57.8/25.6/15.0/10.2 (BP = 0.003 ratio = 0.150 hyp_len = 2922929 ref_len = 19508784),\n",
       "             'vi_mBART': BLEU = 1.76 59.5/29.1/18.2/12.6 (BP = 0.070 ratio = 0.274 hyp_len = 5335787 ref_len = 19508784),\n",
       "             'xh_mBART': BLEU = 0.98 67.8/53.3/50.2/48.9 (BP = 0.018 ratio = 0.199 hyp_len = 3883379 ref_len = 19508784),\n",
       "             'ta_m2m100': BLEU = 0.61 51.5/32.8/28.3/26.1 (BP = 0.018 ratio = 0.200 hyp_len = 3902607 ref_len = 19508784),\n",
       "             'vi_m2m100': BLEU = 1.78 69.7/39.6/26.2/18.6 (BP = 0.052 ratio = 0.253 hyp_len = 4936671 ref_len = 19508784),\n",
       "             'xh_m2m100': BLEU = 0.88 36.8/24.1/20.2/17.9 (BP = 0.037 ratio = 0.232 hyp_len = 4533609 ref_len = 19508784)})"
      ]
     },
     "execution_count": 7,
     "metadata": {},
     "output_type": "execute_result"
    }
   ],
   "source": [
    "bleu_scores"
   ]
  },
  {
   "cell_type": "code",
   "execution_count": null,
   "metadata": {},
   "outputs": [],
   "source": [
    "from comet import download_model, load_from_checkpoint\n",
    "\n",
    "model_qe_path = download_model(\"Unbabel/wmt20-comet-qe-da\")\n",
    "if not 'model_qe' in globals():\n",
    "  model_qe = load_from_checkpoint(model_qe_path)"
   ]
  },
  {
   "cell_type": "code",
   "execution_count": null,
   "metadata": {},
   "outputs": [],
   "source": [
    "df_orig = pd.read_csv(\"data/data.csv\", sep=\"|\").iloc[:5]\n",
    "original = [df_orig[\"claim\"].to_numpy().tolist()]\n",
    "\n",
    "df_dic_trans = defaultdict()\n",
    "for file in os.listdir(path):\n",
    "    if \"backtranslation\" not in file:\n",
    "        df = pd.read_csv(path + file, sep=\"|\").iloc[:5]\n",
    "        lang, model  = file.split(\"_\")[2:4]\n",
    "        model = model.split(\".\")[0]\n",
    "\n",
    "        df_dic_trans[lang + \"_\" + model] = df[\"claim\"].to_numpy().tolist()"
   ]
  },
  {
   "cell_type": "code",
   "execution_count": null,
   "metadata": {},
   "outputs": [],
   "source": [
    "len(df_dic_trans[\"vi_mBART\"])"
   ]
  },
  {
   "cell_type": "code",
   "execution_count": null,
   "metadata": {},
   "outputs": [],
   "source": [
    "from collections import defaultdict\n",
    "\n",
    "df_orig = pd.read_csv(\"data/data.csv\", sep=\"|\").iloc[:5]\n",
    "original = df_orig[\"claim\"].to_numpy().tolist()\n",
    "\n",
    "model_df = defaultdict(list)\n",
    "\n",
    "for key, val in df_dic_trans.items():\n",
    "    for s, o in zip(val, original):\n",
    "        model_df[key].append({\"src\": o, \"mt\": s})"
   ]
  },
  {
   "cell_type": "code",
   "execution_count": null,
   "metadata": {},
   "outputs": [],
   "source": [
    "model_df[\"xh_mBART\"]"
   ]
  },
  {
   "cell_type": "code",
   "execution_count": null,
   "metadata": {},
   "outputs": [],
   "source": [
    "!ls"
   ]
  },
  {
   "cell_type": "code",
   "execution_count": null,
   "metadata": {},
   "outputs": [],
   "source": [
    "import multiprocessing as mp\n",
    "import MP_eval as m\n",
    "\n",
    "\n",
    "\n",
    "outputs = {}\n",
    "processes = []\n",
    "\n",
    "for key, value in model_df.items():\n",
    "    p = mp.Process(target=get_results, args=(value, key, ))\n",
    "    # outputs[key] = model_qe.predict(value, batch_size=24, gpus=1)\n",
    "\n",
    "print(outputs)"
   ]
  },
  {
   "cell_type": "code",
   "execution_count": null,
   "metadata": {},
   "outputs": [],
   "source": [
    "import numpy as np\n",
    "\n",
    "np.argmax(model_output[\"scores\"])"
   ]
  }
 ],
 "metadata": {
  "kernelspec": {
   "display_name": "Python 3 (ipykernel)",
   "language": "python",
   "name": "python3"
  },
  "orig_nbformat": 4
 },
 "nbformat": 4,
 "nbformat_minor": 2
}
