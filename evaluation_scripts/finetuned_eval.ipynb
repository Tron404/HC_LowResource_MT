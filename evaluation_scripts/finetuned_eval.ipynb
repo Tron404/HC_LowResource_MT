{
 "cells": [
  {
   "cell_type": "code",
   "execution_count": 1,
   "metadata": {},
   "outputs": [],
   "source": [
    "import pickle\n",
    "import pandas as pd"
   ]
  },
  {
   "cell_type": "code",
   "execution_count": 5,
   "metadata": {},
   "outputs": [
    {
     "name": "stdout",
     "output_type": "stream",
     "text": [
      "classification_scripts\t\tfinetuned_XLMRoBERTa  slurm-3522322_3.out\n",
      "cleaned_snopes.csv\t\tLICENSE\t\t      slurm-3522322_4.out\n",
      "config_cpu_pyScript_MP.sh\tmodel_download.bash   slurm-3522322_5.out\n",
      "config_cpu.sh\t\t\tmodels\t\t      slurm-3522322_6.out\n",
      "config_gpu_pyScript_MP_back.sh\t__pycache__\t      slurm-3522322_7.out\n",
      "config_gpu_pyScript_MP.sh\tREADME.md\t      slurm-3522322_8.out\n",
      "config_gpu.sh\t\t\tresults\t\t      slurm-3522322_9.out\n",
      "data\t\t\t\tslurm-3522297.out     slurm-3522706.out\n",
      "data_scripts\t\t\tslurm-3522322_1.out   translation\n",
      "evaluation_scripts\t\tslurm-3522322_2.out   wmt20-comet-qe-da\n"
     ]
    }
   ],
   "source": [
    "!ls"
   ]
  },
  {
   "cell_type": "code",
   "execution_count": 19,
   "metadata": {},
   "outputs": [
    {
     "name": "stdout",
     "output_type": "stream",
     "text": [
      "0.885 & 0.848 & 0.866 \\\\\n",
      "translated backtranslation ta m2m100.pickle---------\n",
      "0.963 & 0.956 & 0.96 \\\\\n",
      "translated backtranslation vi m2m100.pickle---------\n",
      "0.861 & 0.881 & 0.871 \\\\\n",
      "translated backtranslation xh m2m100.pickle---------\n",
      "0.874 & 0.916 & 0.895 \\\\\n",
      "translated backtranslation xh mBART.pickle---------\n",
      "0.906 & 0.937 & 0.922 \\\\\n",
      "translated ta mBART.pickle---------\n",
      "0.863 & 0.872 & 0.867 \\\\\n",
      "translated xh mBART.pickle---------\n",
      "0.949 & 0.915 & 0.932 \\\\\n",
      "original en.pickle---------\n",
      "0.896 & 0.862 & 0.879 \\\\\n",
      "translated ta m2m100.pickle---------\n",
      "0.95 & 0.962 & 0.956 \\\\\n",
      "translated vi m2m100.pickle---------\n",
      "0.881 & 0.899 & 0.89 \\\\\n",
      "translated xh m2m100.pickle---------\n",
      "0.901 & 0.925 & 0.913 \\\\\n",
      "translated backtranslation ta mBART.pickle---------\n",
      "0.953 & 0.946 & 0.95 \\\\\n",
      "translated backtranslation vi mBART.pickle---------\n",
      "0.906 & 0.914 & 0.91 \\\\\n",
      "translated vi mBART.pickle---------\n"
     ]
    }
   ],
   "source": [
    "import os\n",
    "\n",
    "for file in os.listdir(\"results\"):\n",
    "    df = pickle.load(open(f\"results/{file}\", \"rb\"))\n",
    "    aux = f'{round(df.iloc[-1][\"results\"][\"eval_precision\"],3)} & {round(df.iloc[-1][\"results\"][\"eval_recall\"],3)} & {round(df.iloc[-1][\"results\"][\"eval_f1\"],3)} \\\\\\\\'\n",
    "    print(aux)\n",
    "    print(\" \".join(file.split(\"_\")[2:]) + \"---------\")"
   ]
  }
 ],
 "metadata": {
  "kernelspec": {
   "display_name": "Python 3 (ipykernel)",
   "language": "python",
   "name": "python3"
  },
  "orig_nbformat": 4
 },
 "nbformat": 4,
 "nbformat_minor": 2
}
