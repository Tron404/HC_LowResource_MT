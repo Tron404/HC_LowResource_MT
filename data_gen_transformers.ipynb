{
  "cells": [
    {
      "cell_type": "code",
      "execution_count": 1,
      "metadata": {
        "id": "ZVHBETgDjlde"
      },
      "outputs": [
        {
          "name": "stdout",
          "output_type": "stream",
          "text": [
            "True\n"
          ]
        }
      ],
      "source": [
        "import sys\n",
        "import pandas as pd\n",
        "from tra import *"
      ]
    },
    {
      "cell_type": "code",
      "execution_count": 2,
      "metadata": {},
      "outputs": [
        {
          "name": "stderr",
          "output_type": "stream",
          "text": [
            "/home2/s4231317/virtual_env/HC/lib/python3.10/site-packages/transformers/generation/utils.py:1346: UserWarning: Using `max_length`'s default (200) to control the generation length. This behaviour is deprecated and will be removed from the config in v5 of Transformers -- we recommend using `max_new_tokens` to control the maximum length of the generation.\n",
            "  warnings.warn(\n",
            "2023-06-26 10:51:48.664410: I tensorflow/core/util/port.cc:104] oneDNN custom operations are on. You may see slightly different numerical results due to floating-point round-off errors from different computation orders. To turn them off, set the environment variable `TF_ENABLE_ONEDNN_OPTS=0`.\n",
            "/home2/s4231317/virtual_env/HC/lib/python3.10/site-packages/transformers/generation/utils.py:1346: UserWarning: Using `max_length`'s default (200) to control the generation length. This behaviour is deprecated and will be removed from the config in v5 of Transformers -- we recommend using `max_new_tokens` to control the maximum length of the generation.\n",
            "  warnings.warn(\n"
          ]
        },
        {
          "name": "stdout",
          "output_type": "stream",
          "text": [
            "True\n",
            "en_XX - xh_ZA\n",
            "['Scammers dupe victims into paying security keeping fees to receive courier parcels supposedly containing large checks or other valuables.'\n",
            " ' with two wives receive a host of government benefits upon their their arrival.'\n",
            " 'Election Day is being split across two separate days this year.'\n",
            " 'A photograph shows a scarecrow that was made out of a human corpse.'\n",
            " \"Two men arrested for their part in Turkey's attempted military takeover are CIA agents.\"]\n",
            "['Scammers igquma uphinda- phindo lwamaxabiso ozakulayisha iimfihlo zokhuseleko ukufumana iincwadi ezineenkcukacha ze courier eziqulathe iikhasi ezinkulu okanye ezinye ixabiso.'\n",
            " 'neenamanye amabini abamkela amaninzi avunye lwenkqubo kwixesha elizakufika.'\n",
            " 'Ikhetho Imini Ikhusi lwahlulekayo lwahlulekayo lwahlulekayo lweentsuku ezimbini ezihlukileyo.'\n",
            " 'Umfanekiso ubonisa um scarecrow owenziwa khona esuka kumntu.'\n",
            " 'Amaqela amatsha angaqukwa ngomsebenzi womntu wamthengisi womntu wamthengisi womntu wamthengisi womntu wamthengisi womntu wamthengisi womntu wamthengisi womntu wamthengisi.']\n"
          ]
        }
      ],
      "source": [
        "import multiprocessing as mp\n",
        "\n",
        "if __name__ == \"__main__\":\n",
        "\tmp.set_start_method('spawn', force=True)\n",
        "\n",
        "\tprocess = []\n",
        "\tfor tl in tls:\n",
        "\t\tp = mp.Process(target=translate, args=(sl, tl))\n",
        "\t\tp.start()\n",
        "\t\tprocess.append(p)\n",
        "\n",
        "\tfor p in process:\n",
        "\t\tp.join()\n",
        "\t"
      ]
    },
    {
      "cell_type": "code",
      "execution_count": null,
      "metadata": {
        "colab": {
          "base_uri": "https://localhost:8080/"
        },
        "id": "ZoA9RoHo0VVF",
        "outputId": "415bc418-e8b5-4232-abaa-096a7a2f0de2"
      },
      "outputs": [],
      "source": [
        "from sklearn.model_selection import train_test_split\n",
        "from transformers import DataCollatorForSeq2Seq\n",
        "from tqdm import tqdm\n",
        "import torch\n",
        "\n",
        "data_collator = DataCollatorForSeq2Seq(tokenizer=tokenizer, model=model)\n",
        "\n",
        "x_ids = torch.as_tensor([ten[\"input_ids\"] for ten in tqdm(tok_data)])\n",
        "y_ids = torch.as_tensor([ten[\"labels\"] for ten in tqdm(tok_data)])\n",
        "\n",
        "print(x_ids.shape, y_ids.shape)"
      ]
    },
    {
      "cell_type": "code",
      "execution_count": null,
      "metadata": {
        "colab": {
          "base_uri": "https://localhost:8080/"
        },
        "id": "ROYmzyQR2YtI",
        "outputId": "c4acb7c9-1393-487c-d8d6-f667f18e37cb"
      },
      "outputs": [],
      "source": [
        "def convert_to_dict(data, lang):\n",
        "  d = {}\n",
        "  for idx, dat in enumerate(data[:6]):\n",
        "    d[idx] = {lang: data[idx]}\n",
        "\n",
        "  return d\n",
        "\n",
        "x_train, x_test, y_train, y_test = train_test_split(x_ids, y_ids, test_size=0.25)\n",
        "x_test, x_val, y_test, y_val = train_test_split(x_test, y_test, test_size=0.5) # validation\n",
        "\n",
        "print(x_train.shape, x_test.shape, x_val.shape)\n",
        "\n",
        "x_train = convert_to_dict(x_train, s_lang)\n",
        "x_test = convert_to_dict(x_test, s_lang)\n",
        "x_val = convert_to_dict(x_val, s_lang)\n",
        "\n",
        "y_train = convert_to_dict(y_train, t_lang)\n",
        "y_test = convert_to_dict(y_test, t_lang)\n",
        "y_val = convert_to_dict(y_val, t_lang)\n",
        "\n",
        "# train = [{\"id\": str(idx), \"translation\": {s_lang: x_train, t_lang: y_train}} for idx in ids][0]\n",
        "# test = [{\"id\": str(idx), \"translation\": {s_lang: x_test, t_lang: y_test}} for idx in ids][0]"
      ]
    },
    {
      "cell_type": "code",
      "execution_count": null,
      "metadata": {
        "id": "psrORHXdsUC6"
      },
      "outputs": [],
      "source": [
        "class Data(torch.utils.data.Dataset):\n",
        "  def __init__(self, x, y):\n",
        "    self.x = x\n",
        "    self.y = y\n",
        "\n",
        "  def __getitem__(self, idx):\n",
        "    item = {key: torch.as_tensor(val[idx]) for key, val in self.x.items()}\n",
        "    print(item)\n",
        "    item[\"labels\"] = torch.as_tensor(self.y[idx])\n",
        "    return item\n",
        "\n",
        "  def __len__(self):\n",
        "    return len(self.y)\n",
        "\n",
        "train = Data(x_train, y_train)\n",
        "test = Data(x_test, y_test)\n",
        "val = Data(x_val, y_val)"
      ]
    },
    {
      "cell_type": "code",
      "execution_count": null,
      "metadata": {
        "colab": {
          "base_uri": "https://localhost:8080/"
        },
        "id": "Ya51lx3k3Ev_",
        "outputId": "dccaf2e3-2a20-4f90-8ee1-a37c2568be12"
      },
      "outputs": [],
      "source": [
        "!pip install -q evaluate sacrebleu"
      ]
    },
    {
      "cell_type": "code",
      "execution_count": null,
      "metadata": {
        "colab": {
          "base_uri": "https://localhost:8080/",
          "height": 49,
          "referenced_widgets": [
            "fe42b449d947474eb85305c119e67e66",
            "2bfa3aef384d4f38a42025c490e8339d",
            "689a427a9272440dbfc0b0a66fc40c90",
            "876c3223068543b993676ff1ef7d583c",
            "64af41d6093e4f4887bb09d702b29aac",
            "d18ad19e3bb04c438bc8cb8e92e60f3b",
            "51c95ae53d674fcdbe1b837e53ec9c0b",
            "07a1dee5f11d4a9180764969edacd592",
            "cad52e0c0ab84a669ed5117bfd4d8fb8",
            "70414817cc464aaa9f955448422c62ee",
            "72d9e37734dc4909b94027f9f420eb85"
          ]
        },
        "id": "wpaPxS-H24-6",
        "outputId": "30f7b32c-a31c-4b0b-fb9f-82ca22c12d03"
      },
      "outputs": [],
      "source": [
        "import numpy as np\n",
        "import evaluate\n",
        "\n",
        "metric = evaluate.load(\"sacrebleu\")\n",
        "\n",
        "def postprocess_text(preds, labels):\n",
        "    preds = [pred.strip() for pred in preds]\n",
        "    labels = [[label.strip()] for label in labels]\n",
        "\n",
        "    return preds, labels\n",
        "\n",
        "\n",
        "def compute_metrics(eval_preds):\n",
        "    preds, labels = eval_preds\n",
        "\n",
        "    if isinstance(preds, tuple):\n",
        "        preds = preds[0]\n",
        "\n",
        "    decoded_preds = tokenizer.batch_decode(preds, skip_special_tokens=True)\n",
        "    labels = np.where(labels != -100, labels, tokenizer.pad_token_id)\n",
        "    decoded_labels = tokenizer.batch_decode(labels, skip_special_tokens=True)\n",
        "    decoded_preds, decoded_labels = postprocess_text(decoded_preds, decoded_labels)\n",
        "    result = metric.compute(predictions=decoded_preds, references=decoded_labels)\n",
        "    result = {\"bleu\": result[\"score\"]}\n",
        "    prediction_lens = [np.count_nonzero(pred != tokenizer.pad_token_id) for pred in preds]\n",
        "    result[\"gen_len\"] = np.mean(prediction_lens)\n",
        "    result = {k: round(v, 4) for k, v in result.items()}\n",
        "\n",
        "    return result"
      ]
    },
    {
      "cell_type": "code",
      "execution_count": null,
      "metadata": {
        "id": "vXGGLkyXz3Xt"
      },
      "outputs": [],
      "source": [
        "from transformers import Seq2SeqTrainingArguments, Seq2SeqTrainer\n",
        "\n",
        "training_args = Seq2SeqTrainingArguments(\n",
        "    output_dir=f\"{s_lang}-{t_lang}_model\",\n",
        "    evaluation_strategy=\"epoch\",\n",
        "    learning_rate=2e-5,\n",
        "    per_device_train_batch_size=16,\n",
        "    per_device_eval_batch_size=16,\n",
        "    weight_decay=0.01,\n",
        "    save_total_limit=3,\n",
        "    num_train_epochs=2,\n",
        "    predict_with_generate=True,\n",
        "    fp16=True,\n",
        "    push_to_hub=False,\n",
        ")\n",
        "\n",
        "trainer = Seq2SeqTrainer(\n",
        "    model=model,\n",
        "    args=training_args,\n",
        "    train_dataset=train,\n",
        "    eval_dataset=test,\n",
        "    tokenizer=tokenizer,\n",
        "    data_collator=data_collator,\n",
        "    compute_metrics=compute_metrics,\n",
        ")"
      ]
    },
    {
      "cell_type": "code",
      "execution_count": null,
      "metadata": {
        "colab": {
          "base_uri": "https://localhost:8080/",
          "height": 1000
        },
        "id": "0L_Q7tXX3YJz",
        "outputId": "d1571554-a254-4989-c9ee-300d5aff73c7"
      },
      "outputs": [],
      "source": [
        "trainer.train()"
      ]
    },
    {
      "cell_type": "code",
      "execution_count": null,
      "metadata": {
        "id": "wNWLouO9Yx7L"
      },
      "outputs": [],
      "source": [
        "# sl = \"English\"\n",
        "# tl = \"French\"\n",
        "# prefix = f\"translate {sl} to {tl}: \"\n",
        "\n",
        "# text = prefix + \"My name is Eduard\"\n",
        "\n",
        "# inputs = tokenizer(text, return_tensors=\"pt\").input_ids\n",
        "# outputs = model.generate(inputs, max_new_tokens=40, do_sample=True, top_k=30, top_p=0.95)\n",
        "# print(tokenizer.decode(outputs[0], skip_special_tokens=True))"
      ]
    }
  ],
  "metadata": {
    "accelerator": "GPU",
    "colab": {
      "gpuType": "T4",
      "provenance": []
    },
    "kernelspec": {
      "display_name": "Python 3 (ipykernel)",
      "language": "python",
      "name": "python3"
    },
    "language_info": {
      "codemirror_mode": {
        "name": "ipython",
        "version": 3
      },
      "file_extension": ".py",
      "mimetype": "text/x-python",
      "name": "python",
      "nbconvert_exporter": "python",
      "pygments_lexer": "ipython3",
      "version": "3.10.8"
    },
    "widgets": {
      "application/vnd.jupyter.widget-state+json": {
        "07a1dee5f11d4a9180764969edacd592": {
          "model_module": "@jupyter-widgets/base",
          "model_module_version": "1.2.0",
          "model_name": "LayoutModel",
          "state": {
            "_model_module": "@jupyter-widgets/base",
            "_model_module_version": "1.2.0",
            "_model_name": "LayoutModel",
            "_view_count": null,
            "_view_module": "@jupyter-widgets/base",
            "_view_module_version": "1.2.0",
            "_view_name": "LayoutView",
            "align_content": null,
            "align_items": null,
            "align_self": null,
            "border": null,
            "bottom": null,
            "display": null,
            "flex": null,
            "flex_flow": null,
            "grid_area": null,
            "grid_auto_columns": null,
            "grid_auto_flow": null,
            "grid_auto_rows": null,
            "grid_column": null,
            "grid_gap": null,
            "grid_row": null,
            "grid_template_areas": null,
            "grid_template_columns": null,
            "grid_template_rows": null,
            "height": null,
            "justify_content": null,
            "justify_items": null,
            "left": null,
            "margin": null,
            "max_height": null,
            "max_width": null,
            "min_height": null,
            "min_width": null,
            "object_fit": null,
            "object_position": null,
            "order": null,
            "overflow": null,
            "overflow_x": null,
            "overflow_y": null,
            "padding": null,
            "right": null,
            "top": null,
            "visibility": null,
            "width": "20px"
          }
        },
        "2bfa3aef384d4f38a42025c490e8339d": {
          "model_module": "@jupyter-widgets/controls",
          "model_module_version": "1.5.0",
          "model_name": "HTMLModel",
          "state": {
            "_dom_classes": [],
            "_model_module": "@jupyter-widgets/controls",
            "_model_module_version": "1.5.0",
            "_model_name": "HTMLModel",
            "_view_count": null,
            "_view_module": "@jupyter-widgets/controls",
            "_view_module_version": "1.5.0",
            "_view_name": "HTMLView",
            "description": "",
            "description_tooltip": null,
            "layout": "IPY_MODEL_d18ad19e3bb04c438bc8cb8e92e60f3b",
            "placeholder": "​",
            "style": "IPY_MODEL_51c95ae53d674fcdbe1b837e53ec9c0b",
            "value": "Downloading builder script: "
          }
        },
        "51c95ae53d674fcdbe1b837e53ec9c0b": {
          "model_module": "@jupyter-widgets/controls",
          "model_module_version": "1.5.0",
          "model_name": "DescriptionStyleModel",
          "state": {
            "_model_module": "@jupyter-widgets/controls",
            "_model_module_version": "1.5.0",
            "_model_name": "DescriptionStyleModel",
            "_view_count": null,
            "_view_module": "@jupyter-widgets/base",
            "_view_module_version": "1.2.0",
            "_view_name": "StyleView",
            "description_width": ""
          }
        },
        "64af41d6093e4f4887bb09d702b29aac": {
          "model_module": "@jupyter-widgets/base",
          "model_module_version": "1.2.0",
          "model_name": "LayoutModel",
          "state": {
            "_model_module": "@jupyter-widgets/base",
            "_model_module_version": "1.2.0",
            "_model_name": "LayoutModel",
            "_view_count": null,
            "_view_module": "@jupyter-widgets/base",
            "_view_module_version": "1.2.0",
            "_view_name": "LayoutView",
            "align_content": null,
            "align_items": null,
            "align_self": null,
            "border": null,
            "bottom": null,
            "display": null,
            "flex": null,
            "flex_flow": null,
            "grid_area": null,
            "grid_auto_columns": null,
            "grid_auto_flow": null,
            "grid_auto_rows": null,
            "grid_column": null,
            "grid_gap": null,
            "grid_row": null,
            "grid_template_areas": null,
            "grid_template_columns": null,
            "grid_template_rows": null,
            "height": null,
            "justify_content": null,
            "justify_items": null,
            "left": null,
            "margin": null,
            "max_height": null,
            "max_width": null,
            "min_height": null,
            "min_width": null,
            "object_fit": null,
            "object_position": null,
            "order": null,
            "overflow": null,
            "overflow_x": null,
            "overflow_y": null,
            "padding": null,
            "right": null,
            "top": null,
            "visibility": null,
            "width": null
          }
        },
        "689a427a9272440dbfc0b0a66fc40c90": {
          "model_module": "@jupyter-widgets/controls",
          "model_module_version": "1.5.0",
          "model_name": "FloatProgressModel",
          "state": {
            "_dom_classes": [],
            "_model_module": "@jupyter-widgets/controls",
            "_model_module_version": "1.5.0",
            "_model_name": "FloatProgressModel",
            "_view_count": null,
            "_view_module": "@jupyter-widgets/controls",
            "_view_module_version": "1.5.0",
            "_view_name": "ProgressView",
            "bar_style": "success",
            "description": "",
            "description_tooltip": null,
            "layout": "IPY_MODEL_07a1dee5f11d4a9180764969edacd592",
            "max": 1,
            "min": 0,
            "orientation": "horizontal",
            "style": "IPY_MODEL_cad52e0c0ab84a669ed5117bfd4d8fb8",
            "value": 1
          }
        },
        "70414817cc464aaa9f955448422c62ee": {
          "model_module": "@jupyter-widgets/base",
          "model_module_version": "1.2.0",
          "model_name": "LayoutModel",
          "state": {
            "_model_module": "@jupyter-widgets/base",
            "_model_module_version": "1.2.0",
            "_model_name": "LayoutModel",
            "_view_count": null,
            "_view_module": "@jupyter-widgets/base",
            "_view_module_version": "1.2.0",
            "_view_name": "LayoutView",
            "align_content": null,
            "align_items": null,
            "align_self": null,
            "border": null,
            "bottom": null,
            "display": null,
            "flex": null,
            "flex_flow": null,
            "grid_area": null,
            "grid_auto_columns": null,
            "grid_auto_flow": null,
            "grid_auto_rows": null,
            "grid_column": null,
            "grid_gap": null,
            "grid_row": null,
            "grid_template_areas": null,
            "grid_template_columns": null,
            "grid_template_rows": null,
            "height": null,
            "justify_content": null,
            "justify_items": null,
            "left": null,
            "margin": null,
            "max_height": null,
            "max_width": null,
            "min_height": null,
            "min_width": null,
            "object_fit": null,
            "object_position": null,
            "order": null,
            "overflow": null,
            "overflow_x": null,
            "overflow_y": null,
            "padding": null,
            "right": null,
            "top": null,
            "visibility": null,
            "width": null
          }
        },
        "72d9e37734dc4909b94027f9f420eb85": {
          "model_module": "@jupyter-widgets/controls",
          "model_module_version": "1.5.0",
          "model_name": "DescriptionStyleModel",
          "state": {
            "_model_module": "@jupyter-widgets/controls",
            "_model_module_version": "1.5.0",
            "_model_name": "DescriptionStyleModel",
            "_view_count": null,
            "_view_module": "@jupyter-widgets/base",
            "_view_module_version": "1.2.0",
            "_view_name": "StyleView",
            "description_width": ""
          }
        },
        "876c3223068543b993676ff1ef7d583c": {
          "model_module": "@jupyter-widgets/controls",
          "model_module_version": "1.5.0",
          "model_name": "HTMLModel",
          "state": {
            "_dom_classes": [],
            "_model_module": "@jupyter-widgets/controls",
            "_model_module_version": "1.5.0",
            "_model_name": "HTMLModel",
            "_view_count": null,
            "_view_module": "@jupyter-widgets/controls",
            "_view_module_version": "1.5.0",
            "_view_name": "HTMLView",
            "description": "",
            "description_tooltip": null,
            "layout": "IPY_MODEL_70414817cc464aaa9f955448422c62ee",
            "placeholder": "​",
            "style": "IPY_MODEL_72d9e37734dc4909b94027f9f420eb85",
            "value": " 8.15k/? [00:00&lt;00:00, 320kB/s]"
          }
        },
        "cad52e0c0ab84a669ed5117bfd4d8fb8": {
          "model_module": "@jupyter-widgets/controls",
          "model_module_version": "1.5.0",
          "model_name": "ProgressStyleModel",
          "state": {
            "_model_module": "@jupyter-widgets/controls",
            "_model_module_version": "1.5.0",
            "_model_name": "ProgressStyleModel",
            "_view_count": null,
            "_view_module": "@jupyter-widgets/base",
            "_view_module_version": "1.2.0",
            "_view_name": "StyleView",
            "bar_color": null,
            "description_width": ""
          }
        },
        "d18ad19e3bb04c438bc8cb8e92e60f3b": {
          "model_module": "@jupyter-widgets/base",
          "model_module_version": "1.2.0",
          "model_name": "LayoutModel",
          "state": {
            "_model_module": "@jupyter-widgets/base",
            "_model_module_version": "1.2.0",
            "_model_name": "LayoutModel",
            "_view_count": null,
            "_view_module": "@jupyter-widgets/base",
            "_view_module_version": "1.2.0",
            "_view_name": "LayoutView",
            "align_content": null,
            "align_items": null,
            "align_self": null,
            "border": null,
            "bottom": null,
            "display": null,
            "flex": null,
            "flex_flow": null,
            "grid_area": null,
            "grid_auto_columns": null,
            "grid_auto_flow": null,
            "grid_auto_rows": null,
            "grid_column": null,
            "grid_gap": null,
            "grid_row": null,
            "grid_template_areas": null,
            "grid_template_columns": null,
            "grid_template_rows": null,
            "height": null,
            "justify_content": null,
            "justify_items": null,
            "left": null,
            "margin": null,
            "max_height": null,
            "max_width": null,
            "min_height": null,
            "min_width": null,
            "object_fit": null,
            "object_position": null,
            "order": null,
            "overflow": null,
            "overflow_x": null,
            "overflow_y": null,
            "padding": null,
            "right": null,
            "top": null,
            "visibility": null,
            "width": null
          }
        },
        "fe42b449d947474eb85305c119e67e66": {
          "model_module": "@jupyter-widgets/controls",
          "model_module_version": "1.5.0",
          "model_name": "HBoxModel",
          "state": {
            "_dom_classes": [],
            "_model_module": "@jupyter-widgets/controls",
            "_model_module_version": "1.5.0",
            "_model_name": "HBoxModel",
            "_view_count": null,
            "_view_module": "@jupyter-widgets/controls",
            "_view_module_version": "1.5.0",
            "_view_name": "HBoxView",
            "box_style": "",
            "children": [
              "IPY_MODEL_2bfa3aef384d4f38a42025c490e8339d",
              "IPY_MODEL_689a427a9272440dbfc0b0a66fc40c90",
              "IPY_MODEL_876c3223068543b993676ff1ef7d583c"
            ],
            "layout": "IPY_MODEL_64af41d6093e4f4887bb09d702b29aac"
          }
        }
      }
    }
  },
  "nbformat": 4,
  "nbformat_minor": 0
}
