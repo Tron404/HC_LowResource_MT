{
 "cells": [
  {
   "cell_type": "markdown",
   "metadata": {},
   "source": [
    "# Combine the generated .csv files to get compact .csv files for each language-model pairing"
   ]
  },
  {
   "cell_type": "code",
   "execution_count": 1,
   "metadata": {},
   "outputs": [],
   "source": [
    "import pandas as pd\n",
    "import os"
   ]
  },
  {
   "cell_type": "code",
   "execution_count": 84,
   "metadata": {},
   "outputs": [],
   "source": [
    "langs = [\"ta\", \"vi\", \"xh\"]\n",
    "models = [\"mBART\", \"m2m100\"]\n",
    "path = \"translation/\""
   ]
  },
  {
   "cell_type": "code",
   "execution_count": 86,
   "metadata": {},
   "outputs": [
    {
     "name": "stdout",
     "output_type": "stream",
     "text": [
      "(47109, 2)\n",
      "(47109, 2)\n",
      "(47109, 2)\n",
      "(47109, 2)\n",
      "(47109, 2)\n",
      "(47109, 2)\n"
     ]
    }
   ],
   "source": [
    "backtranslated = False\n",
    "for model in models:\n",
    "    for lang in langs:\n",
    "        file_names = []\n",
    "        for file in os.listdir(\"translation\"):\n",
    "            if os.path.isdir(path + file):\n",
    "                continue\n",
    "            aux = (file.split(\".\")[0]).split(\"_\")\n",
    "            aux = [lang.split(\"-\")[0] for lang in aux]\n",
    "            model_check = True if model in aux or model == \"mBART\" and \"m2m100\" not in aux else False\n",
    "            if \"backtranslation\" in aux and (lang in aux and model_check is True):\n",
    "                file_names.append(file)\n",
    "        df = []\n",
    "        for file in file_names:\n",
    "            df.append(pd.read_csv(path + file, sep=\"|\"))\n",
    "        df = pd.concat(df)\n",
    "        print(df.shape)\n",
    "        df = df.reset_index(drop=True)\n",
    "        file = f\"data_translated_backtranslation_{lang}_{model}.csv\"\n",
    "        df.to_csv(path + \"complete/\" + file, index=False, encoding=\"utf-8\", sep=\"|\")"
   ]
  }
 ],
 "metadata": {
  "kernelspec": {
   "display_name": "Python 3 (ipykernel)",
   "language": "python",
   "name": "python3"
  },
  "language_info": {
   "codemirror_mode": {
    "name": "ipython",
    "version": 3
   },
   "file_extension": ".py",
   "mimetype": "text/x-python",
   "name": "python",
   "nbconvert_exporter": "python",
   "pygments_lexer": "ipython3",
   "version": "3.10.8"
  },
  "orig_nbformat": 4
 },
 "nbformat": 4,
 "nbformat_minor": 2
}
