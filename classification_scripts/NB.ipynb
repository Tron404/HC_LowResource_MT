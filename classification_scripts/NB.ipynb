{
 "cells": [
  {
   "cell_type": "code",
   "execution_count": 1,
   "metadata": {},
   "outputs": [],
   "source": [
    "import numpy as np\n",
    "import pandas as pd\n",
    "\n",
    "from sklearn.model_selection import train_test_split, GridSearchCV\n",
    "from sklearn.metrics import accuracy_score, confusion_matrix, classification_report\n",
    "from sklearn.feature_extraction.text import TfidfVectorizer\n",
    "from sklearn.preprocessing import LabelEncoder\n",
    "from sklearn.linear_model import LogisticRegression\n",
    "\n",
    "path = \"./data/\"\n",
    "\n",
    "model_emb_langs = {\"mBART\": [\"ta_IN\", \"xh_ZA\", \"vi_VN\"], \n",
    "                   \"m2m100\": [\"ta\", \"xh\", \"vi\"]}\n",
    "\n",
    "limit = 50000"
   ]
  },
  {
   "cell_type": "markdown",
   "metadata": {},
   "source": [
    "# Low-resource language translations"
   ]
  },
  {
   "cell_type": "code",
   "execution_count": 3,
   "metadata": {},
   "outputs": [
    {
     "name": "stdout",
     "output_type": "stream",
     "text": [
      "(35331, 1024) (11778, 1024)\n",
      "(35331, 1024) (11778, 1024)\n",
      "(35331, 1024) (11778, 1024)\n",
      "(35331, 1024) (11778, 1024)\n"
     ]
    },
    {
     "name": "stderr",
     "output_type": "stream",
     "text": [
      "/home2/s4231317/virtual_env/HC/lib/python3.10/site-packages/sklearn/linear_model/_sag.py:350: ConvergenceWarning: The max_iter was reached which means the coef_ did not converge\n",
      "  warnings.warn(\n"
     ]
    },
    {
     "name": "stdout",
     "output_type": "stream",
     "text": [
      "(35331, 1024) (11778, 1024)\n"
     ]
    },
    {
     "name": "stderr",
     "output_type": "stream",
     "text": [
      "/home2/s4231317/virtual_env/HC/lib/python3.10/site-packages/sklearn/linear_model/_sag.py:350: ConvergenceWarning: The max_iter was reached which means the coef_ did not converge\n",
      "  warnings.warn(\n"
     ]
    },
    {
     "name": "stdout",
     "output_type": "stream",
     "text": [
      "(35331, 1024) (11778, 1024)\n"
     ]
    },
    {
     "name": "stderr",
     "output_type": "stream",
     "text": [
      "/home2/s4231317/virtual_env/HC/lib/python3.10/site-packages/sklearn/linear_model/_sag.py:350: ConvergenceWarning: The max_iter was reached which means the coef_ did not converge\n",
      "  warnings.warn(\n"
     ]
    }
   ],
   "source": [
    "results_lr_ph1 = []\n",
    "labels = pd.read_csv(\"./data/labels.csv\").replace([True, False], [1, 0]).to_numpy().ravel()\n",
    "\n",
    "for model, langs in model_emb_langs.items():\n",
    "\tfor sl in langs:\n",
    "\t\tsl_vec = np.load(path + f\"emb_{model}_{sl}.npy\", mmap_mode=\"r\")\n",
    "\n",
    "\t\tx_train, x_test, y_train, y_test = train_test_split(sl_vec[:limit], labels[:limit], test_size=0.25, random_state=42)\n",
    "\t\tprint(x_train.shape, x_test.shape)\n",
    "\t\t\n",
    "\t\tlr = LogisticRegression(solver=\"saga\", max_iter=1000)\n",
    "\t\tlr.fit(x_train, y_train)\n",
    "\t\tpred = lr.predict(x_test)\n",
    "\n",
    "\t\tconf_matrix = confusion_matrix(y_test, pred)\n",
    "\t\tresults_lr_ph1.append([model, sl, conf_matrix])"
   ]
  },
  {
   "cell_type": "code",
   "execution_count": 4,
   "metadata": {},
   "outputs": [
    {
     "name": "stdout",
     "output_type": "stream",
     "text": [
      "(35331, 1024) (11778, 1024)\n",
      "(35331, 1024) (11778, 1024)\n",
      "(35331, 1024) (11778, 1024)\n",
      "(35331, 1024) (11778, 1024)\n"
     ]
    },
    {
     "name": "stderr",
     "output_type": "stream",
     "text": [
      "/home2/s4231317/virtual_env/HC/lib/python3.10/site-packages/sklearn/linear_model/_sag.py:350: ConvergenceWarning: The max_iter was reached which means the coef_ did not converge\n",
      "  warnings.warn(\n"
     ]
    },
    {
     "name": "stdout",
     "output_type": "stream",
     "text": [
      "(35331, 1024) (11778, 1024)\n"
     ]
    },
    {
     "name": "stderr",
     "output_type": "stream",
     "text": [
      "/home2/s4231317/virtual_env/HC/lib/python3.10/site-packages/sklearn/linear_model/_sag.py:350: ConvergenceWarning: The max_iter was reached which means the coef_ did not converge\n",
      "  warnings.warn(\n"
     ]
    },
    {
     "name": "stdout",
     "output_type": "stream",
     "text": [
      "(35331, 1024) (11778, 1024)\n"
     ]
    },
    {
     "name": "stderr",
     "output_type": "stream",
     "text": [
      "/home2/s4231317/virtual_env/HC/lib/python3.10/site-packages/sklearn/linear_model/_sag.py:350: ConvergenceWarning: The max_iter was reached which means the coef_ did not converge\n",
      "  warnings.warn(\n"
     ]
    }
   ],
   "source": [
    "results_lr_ph2 = []\n",
    "labels = pd.read_csv(\"./data/labels.csv\").replace([True, False], [1, 0]).to_numpy().ravel()\n",
    "\n",
    "for model, langs in model_emb_langs.items():\n",
    "\tfor sl in langs:\n",
    "\t\teng_string = \"en_XX\" if model == \"mBART\" else \"en\"\n",
    "\t\tsl_vec = np.load(path + f\"emb_{model}_{eng_string}_backtranslation-{sl}.npy\", mmap_mode=\"r\")\n",
    "\n",
    "\t\tx_train, x_test, y_train, y_test = train_test_split(sl_vec[:limit], labels[:limit], test_size=0.25, random_state=42)\n",
    "\t\tprint(x_train.shape, x_test.shape)\n",
    "\n",
    "\t\tlr = LogisticRegression(solver=\"saga\", max_iter=1000)\n",
    "\t\tlr.fit(x_train, y_train)\n",
    "\t\tpred = lr.predict(x_test)\n",
    "\n",
    "\t\tconf_matrix = confusion_matrix(y_test, pred)\n",
    "\t\tresults_lr_ph2.append([model, sl, conf_matrix])"
   ]
  },
  {
   "cell_type": "code",
   "execution_count": 6,
   "metadata": {},
   "outputs": [
    {
     "name": "stdout",
     "output_type": "stream",
     "text": [
      "mBART -- ta_IN | ta_IN -> en\n",
      "Translated --> P = 0.898 - R = 0.906 - F1 = 0.902\n",
      "Backtranslated --> P = 0.893 - R = 0.893 - F1 = 0.893\n",
      "------------\n",
      "mBART -- xh_ZA | xh_ZA -> en\n",
      "Translated --> P = 0.848 - R = 0.848 - F1 = 0.848\n",
      "Backtranslated --> P = 0.863 - R = 0.883 - F1 = 0.873\n",
      "------------\n",
      "mBART -- vi_VN | vi_VN -> en\n",
      "Translated --> P = 0.908 - R = 0.875 - F1 = 0.891\n",
      "Backtranslated --> P = 0.929 - R = 0.921 - F1 = 0.925\n",
      "------------\n",
      "m2m100 -- ta | ta -> en\n",
      "Translated --> P = 0.867 - R = 0.818 - F1 = 0.842\n",
      "Backtranslated --> P = 0.857 - R = 0.805 - F1 = 0.830\n",
      "------------\n",
      "m2m100 -- xh | xh -> en\n",
      "Translated --> P = 0.835 - R = 0.833 - F1 = 0.834\n",
      "Backtranslated --> P = 0.808 - R = 0.814 - F1 = 0.811\n",
      "------------\n",
      "m2m100 -- vi | vi -> en\n",
      "Translated --> P = 0.932 - R = 0.938 - F1 = 0.935\n",
      "Backtranslated --> P = 0.931 - R = 0.929 - F1 = 0.930\n",
      "------------\n"
     ]
    }
   ],
   "source": [
    "for translated, backtranslated in zip(results_lr_ph1, results_lr_ph2):\n",
    "    print(f\"{translated[0]} -- {translated[1]} | {backtranslated[1]} -> en\")\n",
    "    tn_tr, fp_tr, fn_tr, tp_tr = translated[2].ravel()\n",
    "    precision_tr = tp_tr/(fp_tr+tp_tr)\n",
    "    recall_tr = tp_tr/(fn_tr+tp_tr)\n",
    "    f1_tr = (2*recall_tr*precision_tr)/(recall_tr+precision_tr)\n",
    "\n",
    "    tn_btr, fp_btr, fn_btr, tp_btr = backtranslated[2].ravel()\n",
    "    precision_btr = tp_btr/(fp_btr+tp_btr)\n",
    "    recall_btr = tp_btr/(fn_btr+tp_btr)\n",
    "    f1_btr = (2*recall_btr*precision_btr)/(recall_btr+precision_btr) \n",
    "\n",
    "    print(f\"Translated --> P = {precision_tr:0.3f} - R = {recall_tr:0.3f} - F1 = {f1_tr:0.3f}\")\n",
    "    print(f\"Backtranslated --> P = {precision_btr:0.3f} - R = {recall_btr:0.3f} - F1 = {f1_btr:0.3f}\")\n",
    "    print(\"------------\")"
   ]
  }
 ],
 "metadata": {
  "kernelspec": {
   "display_name": "Python 3 (ipykernel)",
   "language": "python",
   "name": "python3"
  },
  "language_info": {
   "codemirror_mode": {
    "name": "ipython",
    "version": 3
   },
   "file_extension": ".py",
   "mimetype": "text/x-python",
   "name": "python",
   "nbconvert_exporter": "python",
   "pygments_lexer": "ipython3",
   "version": "3.10.8"
  },
  "orig_nbformat": 4
 },
 "nbformat": 4,
 "nbformat_minor": 2
}
