{
 "cells": [
  {
   "cell_type": "code",
   "execution_count": 1,
   "metadata": {},
   "outputs": [],
   "source": [
    "import numpy as np\n",
    "import pandas as pd\n",
    "\n",
    "from sklearn.model_selection import train_test_split, GridSearchCV\n",
    "from sklearn.svm import SVC\n",
    "from sklearn.metrics import accuracy_score, confusion_matrix, classification_report\n",
    "from sklearn.feature_extraction.text import TfidfVectorizer\n",
    "from sklearn.preprocessing import LabelEncoder\n",
    "\n",
    "import pandas as pd\n",
    "\n",
    "path = \"./data/\"\n",
    "\n",
    "model_emb_langs = {\"mBART\": [\"ta_IN\", \"xh_ZA\", \"vi_VN\"], \n",
    "                   \"m2m100\": [\"ta\", \"xh\", \"vi\"]}\n",
    "\n",
    "limit = 50000"
   ]
  },
  {
   "cell_type": "code",
   "execution_count": 2,
   "metadata": {},
   "outputs": [
    {
     "name": "stdout",
     "output_type": "stream",
     "text": [
      "(35331, 1024) (11778, 1024)\n",
      "(35331, 1024) (11778, 1024)\n",
      "(35331, 1024) (11778, 1024)\n",
      "(35331, 1024) (11778, 1024)\n",
      "(35331, 1024) (11778, 1024)\n",
      "(35331, 1024) (11778, 1024)\n"
     ]
    }
   ],
   "source": [
    "results_svm_ph1 = []\n",
    "labels = pd.read_csv(\"./data/labels.csv\").replace([True, False], [1, 0]).to_numpy().ravel()\n",
    "\n",
    "for model, langs in model_emb_langs.items():\n",
    "\tfor sl in langs:\n",
    "\t\tsl_vec = np.load(path + f\"emb_{model}_{sl}.npy\", mmap_mode=\"r\")\n",
    "\n",
    "\t\tx_train, x_test, y_train, y_test = train_test_split(sl_vec[:limit], labels[:limit], test_size=0.25, random_state=42)\n",
    "\t\tprint(x_train.shape, x_test.shape)\n",
    "\n",
    "\t\tsvm = SVC()\n",
    "\t\tsvm.fit(x_train, y_train)\n",
    "\t\tpred = svm.predict(x_test)\n",
    "\n",
    "\t\tconf_matrix = confusion_matrix(y_test, pred)\n",
    "\t\tresults_svm_ph1.append([model, sl, conf_matrix])\n",
    "\n"
   ]
  },
  {
   "cell_type": "code",
   "execution_count": 4,
   "metadata": {},
   "outputs": [
    {
     "name": "stdout",
     "output_type": "stream",
     "text": [
      "(35331, 1024) (11778, 1024)\n",
      "(35331, 1024) (11778, 1024)\n",
      "(35331, 1024) (11778, 1024)\n",
      "(35331, 1024) (11778, 1024)\n",
      "(35331, 1024) (11778, 1024)\n",
      "(35331, 1024) (11778, 1024)\n"
     ]
    }
   ],
   "source": [
    "results_svm_ph2 = []\n",
    "labels = pd.read_csv(\"./data/labels.csv\").replace([True, False], [1, 0]).to_numpy().ravel()\n",
    "\n",
    "for model, langs in model_emb_langs.items():\n",
    "\tfor sl in langs:\n",
    "\t\teng_string = \"en_XX\" if model == \"mBART\" else \"en\"\n",
    "\t\tsl_vec = np.load(path + f\"emb_{model}_{eng_string}_backtranslation-{sl}.npy\", mmap_mode=\"r\")\n",
    "\n",
    "\t\tx_train, x_test, y_train, y_test = train_test_split(sl_vec[:limit], labels[:limit], test_size=0.25, random_state=42)\n",
    "\t\tprint(x_train.shape, x_test.shape)\n",
    "\n",
    "\t\tsvm = SVC()\n",
    "\t\tsvm.fit(x_train, y_train)\n",
    "\t\tpred = svm.predict(x_test)\n",
    "\n",
    "\t\tconf_matrix = confusion_matrix(y_test, pred)\n",
    "\t\tresults_svm_ph2.append([model, sl, conf_matrix])"
   ]
  },
  {
   "cell_type": "code",
   "execution_count": 5,
   "metadata": {},
   "outputs": [
    {
     "name": "stdout",
     "output_type": "stream",
     "text": [
      "mBART -- ta_IN | ta_IN -> en\n",
      "Translated --> P = 0.906 - R = 0.892 - F1 = 0.899\n",
      "Backtranslated --> P = 0.912 - R = 0.884 - F1 = 0.898\n",
      "------------\n",
      "mBART -- xh_ZA | xh_ZA -> en\n",
      "Translated --> P = 0.866 - R = 0.848 - F1 = 0.857\n",
      "Backtranslated --> P = 0.869 - R = 0.887 - F1 = 0.878\n",
      "------------\n",
      "mBART -- vi_VN | vi_VN -> en\n",
      "Translated --> P = 0.941 - R = 0.866 - F1 = 0.902\n",
      "Backtranslated --> P = 0.942 - R = 0.912 - F1 = 0.926\n",
      "------------\n",
      "m2m100 -- ta | ta -> en\n",
      "Translated --> P = 0.881 - R = 0.812 - F1 = 0.845\n",
      "Backtranslated --> P = 0.873 - R = 0.802 - F1 = 0.836\n",
      "------------\n",
      "m2m100 -- xh | xh -> en\n",
      "Translated --> P = 0.837 - R = 0.834 - F1 = 0.836\n",
      "Backtranslated --> P = 0.808 - R = 0.808 - F1 = 0.808\n",
      "------------\n",
      "m2m100 -- vi | vi -> en\n",
      "Translated --> P = 0.952 - R = 0.926 - F1 = 0.939\n",
      "Backtranslated --> P = 0.948 - R = 0.921 - F1 = 0.935\n",
      "------------\n"
     ]
    }
   ],
   "source": [
    "for translated, backtranslated in zip(results_svm_ph1, results_svm_ph2):\n",
    "    print(f\"{translated[0]} -- {translated[1]} | {backtranslated[1]} -> en\")\n",
    "    tn_tr, fp_tr, fn_tr, tp_tr = translated[2].ravel()\n",
    "    precision_tr = tp_tr/(fp_tr+tp_tr)\n",
    "    recall_tr = tp_tr/(fn_tr+tp_tr)\n",
    "    f1_tr = (2*recall_tr*precision_tr)/(recall_tr+precision_tr)\n",
    "\n",
    "    tn_btr, fp_btr, fn_btr, tp_btr = backtranslated[2].ravel()\n",
    "    precision_btr = tp_btr/(fp_btr+tp_btr)\n",
    "    recall_btr = tp_btr/(fn_btr+tp_btr)\n",
    "    f1_btr = (2*recall_btr*precision_btr)/(recall_btr+precision_btr) \n",
    "\n",
    "    print(f\"Translated --> P = {precision_tr:0.3f} - R = {recall_tr:0.3f} - F1 = {f1_tr:0.3f}\")\n",
    "    print(f\"Backtranslated --> P = {precision_btr:0.3f} - R = {recall_btr:0.3f} - F1 = {f1_btr:0.3f}\")\n",
    "    print(\"------------\")"
   ]
  }
 ],
 "metadata": {
  "kernelspec": {
   "display_name": "Python 3 (ipykernel)",
   "language": "python",
   "name": "python3"
  },
  "language_info": {
   "codemirror_mode": {
    "name": "ipython",
    "version": 3
   },
   "file_extension": ".py",
   "mimetype": "text/x-python",
   "name": "python",
   "nbconvert_exporter": "python",
   "pygments_lexer": "ipython3",
   "version": "3.10.8"
  },
  "orig_nbformat": 4
 },
 "nbformat": 4,
 "nbformat_minor": 2
}
