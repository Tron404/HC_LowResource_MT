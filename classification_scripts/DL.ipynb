{
 "cells": [
  {
   "cell_type": "code",
   "execution_count": 4,
   "metadata": {},
   "outputs": [],
   "source": [
    "import time\n",
    "import numpy as np\n",
    "import pandas as pd\n",
    "import pickle\n",
    "import math\n",
    "import torch\n",
    "import datasets\n",
    "\n",
    "from sklearn.model_selection import train_test_split\n",
    "from sklearn.metrics import confusion_matrix, classification_report\n",
    "\n",
    "from transformers import  XLMRobertaForSequenceClassification, XLMRobertaTokenizer, DataCollatorWithPadding\n",
    "\n",
    "model_path = \"./models/xlm-roberta-base\"\n",
    "\n",
    "path = \"./data/emb/\"\n",
    "\n",
    "model_emb_langs = {\"mBART\": [\"ta_IN\", \"xh_ZA\", \"vi_VN\"], \n",
    "                   \"m2m100\": [\"ta\", \"xh\", \"vi\"]}\n",
    "\n",
    "limit = 50000\n",
    "\n",
    "id2label = {0: \"False\", 1: \"True\"}\n",
    "label2id = {\"False\": 0, \"True\": 1}"
   ]
  },
  {
   "cell_type": "code",
   "execution_count": 5,
   "metadata": {},
   "outputs": [
    {
     "name": "stderr",
     "output_type": "stream",
     "text": [
      "Some weights of XLMRobertaForSequenceClassification were not initialized from the model checkpoint at ./models/xlm-roberta-base and are newly initialized: ['classifier.out_proj.weight', 'classifier.out_proj.bias', 'classifier.dense.weight', 'classifier.dense.bias']\n",
      "You should probably TRAIN this model on a down-stream task to be able to use it for predictions and inference.\n"
     ]
    }
   ],
   "source": [
    "tokenizer = XLMRobertaTokenizer.from_pretrained(model_path)\n",
    "model = XLMRobertaForSequenceClassification.from_pretrained(model_path, num_labels = 2, id2label = id2label, label2id = label2id)\n",
    "\n",
    "data_collator = DataCollatorWithPadding(tokenizer=tokenizer)"
   ]
  },
  {
   "cell_type": "code",
   "execution_count": 6,
   "metadata": {},
   "outputs": [],
   "source": [
    "import evaluate\n",
    "import numpy as np\n",
    "\n",
    "accuracy = evaluate.load(\"accuracy\")\n",
    "precision = evaluate.load(\"precision\")\n",
    "recall = evaluate.load(\"recall\")\n",
    "f1 = evaluate.load(\"f1\")\n",
    "\n",
    "bro = []\n",
    "\n",
    "def compute_metrics(eval_pred):\n",
    "    predictions, labels = eval_pred\n",
    "    predictions = np.argmax(predictions, axis=1)\n",
    "\n",
    "    accuracy_score = accuracy.compute(predictions=predictions, references=labels)[\"accuracy\"]\n",
    "    precision_score = precision.compute(predictions=predictions, references=labels)[\"precision\"]\n",
    "    recall_score = recall.compute(predictions=predictions, references=labels)[\"recall\"]\n",
    "    f1_score = f1.compute(predictions=predictions, references=labels)[\"f1\"]\n",
    "\n",
    "    bro.append({\"accruacy\": accuracy_score, \"precision\":precision_score, \"recall\":recall_score, \"f1\":f1_score})\n",
    "\n",
    "    return {\"accruacy\": accuracy_score, \"precision\":precision_score, \"recall\":recall_score, \"f1\":f1_score}"
   ]
  },
  {
   "cell_type": "code",
   "execution_count": 7,
   "metadata": {},
   "outputs": [],
   "source": [
    "text = pd.read_csv(\"./data/data.csv\", sep=\"|\")[\"claim\"].to_numpy().tolist()[:limit]\n",
    "labels = pd.read_csv(\"./data/labels.csv\").replace([True, False], [1, 0]).to_numpy().ravel()[:limit]\n",
    "\n",
    "x_train, x_test, y_train, y_test = train_test_split(text, labels, test_size=0.25, random_state=42)\n",
    "x_test, x_valid, y_test, y_valid = train_test_split(x_test, y_test, test_size=0.5, random_state=42)"
   ]
  },
  {
   "cell_type": "code",
   "execution_count": 8,
   "metadata": {},
   "outputs": [],
   "source": [
    "from datasets import Dataset\n",
    "\n",
    "ds_train = Dataset.from_dict({\"claim\":x_train, \"label\":y_train}).select(range(15))\n",
    "ds_test = Dataset.from_dict({\"claim\":x_test, \"label\":y_test}).select(range(15))\n",
    "ds_val = Dataset.from_dict({\"claim\":x_valid, \"label\":y_valid}).select(range(15))"
   ]
  },
  {
   "cell_type": "code",
   "execution_count": 9,
   "metadata": {},
   "outputs": [],
   "source": [
    "def tok_data(data):\n",
    "    return tokenizer(data[\"claim\"], truncation=True, padding=\"max_length\", max_length=512)"
   ]
  },
  {
   "cell_type": "code",
   "execution_count": 10,
   "metadata": {},
   "outputs": [
    {
     "data": {
      "application/vnd.jupyter.widget-view+json": {
       "model_id": "16e0d555d1b246e08af52917304ef898",
       "version_major": 2,
       "version_minor": 0
      },
      "text/plain": [
       "Map:   0%|          | 0/15 [00:00<?, ? examples/s]"
      ]
     },
     "metadata": {},
     "output_type": "display_data"
    },
    {
     "data": {
      "application/vnd.jupyter.widget-view+json": {
       "model_id": "f659b549899d4d21b9f123495a7507f3",
       "version_major": 2,
       "version_minor": 0
      },
      "text/plain": [
       "Map:   0%|          | 0/15 [00:00<?, ? examples/s]"
      ]
     },
     "metadata": {},
     "output_type": "display_data"
    },
    {
     "data": {
      "application/vnd.jupyter.widget-view+json": {
       "model_id": "fbd9021d89314cd0a1115c316e1b2188",
       "version_major": 2,
       "version_minor": 0
      },
      "text/plain": [
       "Map:   0%|          | 0/15 [00:00<?, ? examples/s]"
      ]
     },
     "metadata": {},
     "output_type": "display_data"
    }
   ],
   "source": [
    "tok_train = ds_train.map(tok_data, batched=True)\n",
    "tok_test = ds_test.map(tok_data, batched=True)\n",
    "tok_val = ds_val.map(tok_data, batched=True)"
   ]
  },
  {
   "cell_type": "code",
   "execution_count": 11,
   "metadata": {},
   "outputs": [
    {
     "data": {
      "text/html": [
       "\n",
       "    <div>\n",
       "      \n",
       "      <progress value='2' max='2' style='width:300px; height:20px; vertical-align: middle;'></progress>\n",
       "      [2/2 00:47, Epoch 2/2]\n",
       "    </div>\n",
       "    <table border=\"1\" class=\"dataframe\">\n",
       "  <thead>\n",
       " <tr style=\"text-align: left;\">\n",
       "      <th>Epoch</th>\n",
       "      <th>Training Loss</th>\n",
       "      <th>Validation Loss</th>\n",
       "      <th>Accruacy</th>\n",
       "      <th>Precision</th>\n",
       "      <th>Recall</th>\n",
       "      <th>F1</th>\n",
       "    </tr>\n",
       "  </thead>\n",
       "  <tbody>\n",
       "    <tr>\n",
       "      <td>1</td>\n",
       "      <td>0.794600</td>\n",
       "      <td>0.724545</td>\n",
       "      <td>0.400000</td>\n",
       "      <td>0.400000</td>\n",
       "      <td>1.000000</td>\n",
       "      <td>0.571429</td>\n",
       "    </tr>\n",
       "    <tr>\n",
       "      <td>2</td>\n",
       "      <td>0.779200</td>\n",
       "      <td>0.720735</td>\n",
       "      <td>0.400000</td>\n",
       "      <td>0.400000</td>\n",
       "      <td>1.000000</td>\n",
       "      <td>0.571429</td>\n",
       "    </tr>\n",
       "  </tbody>\n",
       "</table><p>"
      ],
      "text/plain": [
       "<IPython.core.display.HTML object>"
      ]
     },
     "metadata": {},
     "output_type": "display_data"
    }
   ],
   "source": [
    "from transformers import TrainingArguments, Trainer\n",
    "\n",
    "training_args = TrainingArguments(\n",
    "    output_dir = \"finetuned_XLMRoBERTa\",\n",
    "    logging_dir = \"test\",\n",
    "    learning_rate = 1e-5,\n",
    "    per_device_train_batch_size=16,\n",
    "    per_device_eval_batch_size=16,\n",
    "    num_train_epochs=2,\n",
    "    weight_decay=0.01,\n",
    "    evaluation_strategy=\"epoch\",\n",
    "    logging_strategy=\"epoch\",\n",
    "    save_strategy=\"epoch\",\n",
    "    load_best_model_at_end=True,\n",
    "    save_total_limit=1,\n",
    "    push_to_hub=False,\n",
    "    do_train = True,\n",
    "    optim=\"adamw_torch\"\n",
    ")\n",
    "trainer = Trainer(\n",
    "    model=model,\n",
    "    args=training_args,\n",
    "    train_dataset=tok_train,\n",
    "    eval_dataset=tok_val,\n",
    "    tokenizer=tokenizer,\n",
    "    data_collator=data_collator,\n",
    "    compute_metrics=compute_metrics,\n",
    ")\n",
    "\n",
    "t = trainer.train()"
   ]
  },
  {
   "cell_type": "code",
   "execution_count": 12,
   "metadata": {},
   "outputs": [
    {
     "data": {
      "text/html": [
       "\n",
       "    <div>\n",
       "      \n",
       "      <progress value='1' max='1' style='width:300px; height:20px; vertical-align: middle;'></progress>\n",
       "      [1/1 : < :]\n",
       "    </div>\n",
       "    "
      ],
      "text/plain": [
       "<IPython.core.display.HTML object>"
      ]
     },
     "metadata": {},
     "output_type": "display_data"
    },
    {
     "name": "stdout",
     "output_type": "stream",
     "text": [
      "{'eval_loss': 0.6592999696731567, 'eval_accruacy': 0.6666666666666666, 'eval_precision': 0.6666666666666666, 'eval_recall': 1.0, 'eval_f1': 0.8, 'eval_runtime': 5.9496, 'eval_samples_per_second': 2.521, 'eval_steps_per_second': 0.168, 'epoch': 2.0}\n"
     ]
    }
   ],
   "source": [
    "eval = trainer.evaluate(eval_dataset=tok_test)\n",
    "print(eval)"
   ]
  },
  {
   "cell_type": "code",
   "execution_count": 1,
   "metadata": {},
   "outputs": [
    {
     "name": "stdout",
     "output_type": "stream",
     "text": [
      "   epoch                                            results\n",
      "0      0  {'loss': 1.0122, 'learning_rate': 5e-06, 'epoc...\n",
      "1      1  {'eval_loss': 0.5542508363723755, 'eval_accrua...\n",
      "2      2  {'loss': 0.8893, 'learning_rate': 0.0, 'epoch'...\n",
      "3      3  {'eval_loss': 0.5552643537521362, 'eval_accrua...\n",
      "4      4  {'train_runtime': 128.1849, 'train_samples_per...\n",
      "5      5  {'eval_loss': 0.5552643537521362, 'eval_accrua...\n"
     ]
    }
   ],
   "source": [
    "import pandas as pd\n",
    "\n",
    "r_va = pd.read_pickle(\"results/results_data_translated_ta_mBART.pickle\")\n",
    "\n",
    "print(r_va)"
   ]
  },
  {
   "cell_type": "code",
   "execution_count": 32,
   "metadata": {},
   "outputs": [
    {
     "data": {
      "text/plain": [
       "{'eval_loss': 0.5822702646255493,\n",
       " 'eval_accruacy': 0.86,\n",
       " 'eval_precision': 0.84375,\n",
       " 'eval_recall': 0.9310344827586207,\n",
       " 'eval_f1': 0.8852459016393444,\n",
       " 'eval_runtime': 0.4211,\n",
       " 'eval_samples_per_second': 118.724,\n",
       " 'eval_steps_per_second': 9.498,\n",
       " 'epoch': 4.0,\n",
       " 'step': 28}"
      ]
     },
     "execution_count": 32,
     "metadata": {},
     "output_type": "execute_result"
    }
   ],
   "source": [
    "r_va.iloc[7][\"results\"]"
   ]
  }
 ],
 "metadata": {
  "kernelspec": {
   "display_name": "Python 3 (ipykernel)",
   "language": "python",
   "name": "python3"
  },
  "language_info": {
   "codemirror_mode": {
    "name": "ipython",
    "version": 3
   },
   "file_extension": ".py",
   "mimetype": "text/x-python",
   "name": "python",
   "nbconvert_exporter": "python",
   "pygments_lexer": "ipython3",
   "version": "3.10.8"
  },
  "orig_nbformat": 4
 },
 "nbformat": 4,
 "nbformat_minor": 2
}
